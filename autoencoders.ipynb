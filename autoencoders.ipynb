{
  "nbformat": 4,
  "nbformat_minor": 0,
  "metadata": {
    "colab": {
      "name": "autoencoders.ipynb",
      "provenance": [],
      "collapsed_sections": []
    },
    "kernelspec": {
      "name": "python3",
      "display_name": "Python 3"
    }
  },
  "cells": [
    {
      "cell_type": "code",
      "metadata": {
        "id": "Sqe-oDDYKG8t"
      },
      "source": [
        "import pandas as pd\r\n",
        "\r\n",
        "dataset = []\r\n",
        "\r\n",
        "#reading the csv file\r\n",
        "with open(\"monojet_Zp2000.0_DM_50.0_chan3.csv\", mode='r') as f:\r\n",
        "  for line in f:\r\n",
        "    #separate each line based on semicolon\r\n",
        "    temp = line.split(';')\r\n",
        "\r\n",
        "    #now we have event ID; process ID; event weight; etc separated from our required data\r\n",
        "    # extract each 4 momentum from each row and consider only those which have ID = 'j'\r\n",
        "    #step 1: only read after the index = 5  to avoid reading event ID; process ID; etc. details\r\n",
        "    #step 2: iterate through the row and extract each jet having ID = 'j'\r\n",
        "    \r\n",
        "    for jet in temp:\r\n",
        "      jet = jet.split(',')\r\n",
        "      if jet[0] == 'j':\r\n",
        "        # we are not storing event ID here but can be done if required if we need it later for mapping purpose\r\n",
        "        dataset.append([jet[1], jet[2], jet[3], jet[4]])\r\n",
        "\r\n",
        "#changing the dataset from list to Pandas DataFrame\r\n",
        "dataset = pd.DataFrame(dataset, columns=['e', 'pt', 'eta', 'phi'])"
      ],
      "execution_count": 67,
      "outputs": []
    },
    {
      "cell_type": "code",
      "metadata": {
        "colab": {
          "base_uri": "https://localhost:8080/",
          "height": 195
        },
        "id": "LQa23-BwLKCF",
        "outputId": "bfe6a7d0-be3d-41ca-f096-62f0388ab0e2"
      },
      "source": [
        "#viewing the top of the dataset\r\n",
        "dataset.head()"
      ],
      "execution_count": 68,
      "outputs": [
        {
          "output_type": "execute_result",
          "data": {
            "text/html": [
              "<div>\n",
              "<style scoped>\n",
              "    .dataframe tbody tr th:only-of-type {\n",
              "        vertical-align: middle;\n",
              "    }\n",
              "\n",
              "    .dataframe tbody tr th {\n",
              "        vertical-align: top;\n",
              "    }\n",
              "\n",
              "    .dataframe thead th {\n",
              "        text-align: right;\n",
              "    }\n",
              "</style>\n",
              "<table border=\"1\" class=\"dataframe\">\n",
              "  <thead>\n",
              "    <tr style=\"text-align: right;\">\n",
              "      <th></th>\n",
              "      <th>e</th>\n",
              "      <th>pt</th>\n",
              "      <th>eta</th>\n",
              "      <th>phi</th>\n",
              "    </tr>\n",
              "  </thead>\n",
              "  <tbody>\n",
              "    <tr>\n",
              "      <th>0</th>\n",
              "      <td>258722</td>\n",
              "      <td>243675</td>\n",
              "      <td>0.328962</td>\n",
              "      <td>2.25014</td>\n",
              "    </tr>\n",
              "    <tr>\n",
              "      <th>1</th>\n",
              "      <td>520092</td>\n",
              "      <td>108590</td>\n",
              "      <td>-2.2473</td>\n",
              "      <td>-1.85679</td>\n",
              "    </tr>\n",
              "    <tr>\n",
              "      <th>2</th>\n",
              "      <td>383024</td>\n",
              "      <td>88405.6</td>\n",
              "      <td>2.14516</td>\n",
              "      <td>-1.95635</td>\n",
              "    </tr>\n",
              "    <tr>\n",
              "      <th>3</th>\n",
              "      <td>39507.6</td>\n",
              "      <td>35365.1</td>\n",
              "      <td>0.47046</td>\n",
              "      <td>-1.16445</td>\n",
              "    </tr>\n",
              "    <tr>\n",
              "      <th>4</th>\n",
              "      <td>225430</td>\n",
              "      <td>26878.2</td>\n",
              "      <td>-2.81608</td>\n",
              "      <td>-2.25938</td>\n",
              "    </tr>\n",
              "  </tbody>\n",
              "</table>\n",
              "</div>"
            ],
            "text/plain": [
              "         e       pt       eta       phi\n",
              "0   258722   243675  0.328962   2.25014\n",
              "1   520092   108590   -2.2473  -1.85679\n",
              "2   383024  88405.6   2.14516  -1.95635\n",
              "3  39507.6  35365.1   0.47046  -1.16445\n",
              "4   225430  26878.2  -2.81608  -2.25938"
            ]
          },
          "metadata": {
            "tags": []
          },
          "execution_count": 68
        }
      ]
    },
    {
      "cell_type": "code",
      "metadata": {
        "colab": {
          "base_uri": "https://localhost:8080/"
        },
        "id": "LOvBlrFlMpyv",
        "outputId": "036ca5cd-b81a-4f9d-a57f-9670bea31a92"
      },
      "source": [
        "#sanity check for datatype of the columns\r\n",
        "dataset.info()"
      ],
      "execution_count": 69,
      "outputs": [
        {
          "output_type": "stream",
          "text": [
            "<class 'pandas.core.frame.DataFrame'>\n",
            "RangeIndex: 22661 entries, 0 to 22660\n",
            "Data columns (total 4 columns):\n",
            " #   Column  Non-Null Count  Dtype \n",
            "---  ------  --------------  ----- \n",
            " 0   e       22661 non-null  object\n",
            " 1   pt      22661 non-null  object\n",
            " 2   eta     22661 non-null  object\n",
            " 3   phi     22661 non-null  object\n",
            "dtypes: object(4)\n",
            "memory usage: 708.3+ KB\n"
          ],
          "name": "stdout"
        }
      ]
    },
    {
      "cell_type": "code",
      "metadata": {
        "colab": {
          "base_uri": "https://localhost:8080/"
        },
        "id": "jdxh0MeAPn9t",
        "outputId": "07a142c0-5769-42af-e8db-dbe4bc36afe7"
      },
      "source": [
        "#converting data types of columns from object to numeric\r\n",
        "dataset = dataset.apply(pd.to_numeric)\r\n",
        "dataset.info()"
      ],
      "execution_count": 70,
      "outputs": [
        {
          "output_type": "stream",
          "text": [
            "<class 'pandas.core.frame.DataFrame'>\n",
            "RangeIndex: 22661 entries, 0 to 22660\n",
            "Data columns (total 4 columns):\n",
            " #   Column  Non-Null Count  Dtype  \n",
            "---  ------  --------------  -----  \n",
            " 0   e       22661 non-null  float64\n",
            " 1   pt      22661 non-null  float64\n",
            " 2   eta     22661 non-null  float64\n",
            " 3   phi     22661 non-null  float64\n",
            "dtypes: float64(4)\n",
            "memory usage: 708.3 KB\n"
          ],
          "name": "stdout"
        }
      ]
    },
    {
      "cell_type": "code",
      "metadata": {
        "id": "PtpjaNW1dRB5"
      },
      "source": [
        "# normalizing/scaling our data\r\n",
        "import math\r\n",
        "dataset['e'] = dataset['e'].apply(math.log10)\r\n",
        "dataset['pt'] = dataset['pt'].apply(math.log10)\r\n",
        "dataset['eta'] = dataset['eta']/5.0\r\n",
        "dataset['phi'] = dataset['phi']/3.0"
      ],
      "execution_count": 71,
      "outputs": []
    },
    {
      "cell_type": "code",
      "metadata": {
        "colab": {
          "base_uri": "https://localhost:8080/"
        },
        "id": "nisJJjg1RNGs",
        "outputId": "a9571b74-9c94-42eb-a282-ab217d3eab93"
      },
      "source": [
        "#creating train and test data separately to test our model performance later\r\n",
        "from sklearn.model_selection import train_test_split\r\n",
        "train, test = train_test_split(dataset, test_size=0.33, random_state=42)\r\n",
        "print(\"Train dataset : \", train.shape)\r\n",
        "print(\"Test dataset : \", test.shape)"
      ],
      "execution_count": 73,
      "outputs": [
        {
          "output_type": "stream",
          "text": [
            "Train dataset :  (15182, 4)\n",
            "Test dataset :  (7479, 4)\n"
          ],
          "name": "stdout"
        }
      ]
    },
    {
      "cell_type": "markdown",
      "metadata": {
        "id": "3yLPl2h_SqYS"
      },
      "source": [
        "Now we plot the data using the matplotlib library. The units reflect the normalization, but it's the shape that we care about.\r\n",
        "\r\n"
      ]
    },
    {
      "cell_type": "code",
      "metadata": {
        "colab": {
          "base_uri": "https://localhost:8080/",
          "height": 1000
        },
        "id": "hoS2reRCROjb",
        "outputId": "a43ae2b2-b7f3-4388-c59c-6aea716324a8"
      },
      "source": [
        "import matplotlib.pyplot as plt\r\n",
        "\r\n",
        "#unit_list = ['[log(GeV)]', '[rad/3]', '[rad/3]', '[log(GeV)]']\r\n",
        "variable_list = [ r'$e$', r'$p_T$', r'$\\eta$', r'$\\phi$']\r\n",
        "\r\n",
        "branches=[\"e\",\"pt\",\"eta\",\"phi\"]\r\n",
        "\r\n",
        "n_bins = 100\r\n",
        "\r\n",
        "for kk in range(0,4):\r\n",
        "    n_hist_data, bin_edges, _ = plt.hist(train[branches[kk]], color='gray', label='Input', alpha=1, bins=n_bins)\r\n",
        "    plt.xlabel(xlabel=variable_list[kk])\r\n",
        "    plt.ylabel('# of events')\r\n",
        "    #plt.savefig(\"fourmomentum_\"+branches[kk],dpi=300)\r\n",
        "    plt.show()"
      ],
      "execution_count": 74,
      "outputs": [
        {
          "output_type": "display_data",
          "data": {
            "image/png": "[encoded data removed]",
            "text/plain": [
              "<Figure size 432x288 with 1 Axes>"
            ]
          },
          "metadata": {
            "tags": [],
            "needs_background": "light"
          }
        },
        {
          "output_type": "display_data",
          "data": {
            "image/png": "[encoded data removed]",
            "text/plain": [
              "<Figure size 432x288 with 1 Axes>"
            ]
          },
          "metadata": {
            "tags": [],
            "needs_background": "light"
          }
        },
        {
          "output_type": "display_data",
          "data": {
            "image/png": "[encoded data removed]",
            "text/plain": [
              "<Figure size 432x288 with 1 Axes>"
            ]
          },
          "metadata": {
            "tags": [],
            "needs_background": "light"
          }
        },
        {
          "output_type": "display_data",
          "data": {
            "image/png": "[encoded data removed]",
            "text/plain": [
              "<Figure size 432x288 with 1 Axes>"
            ]
          },
          "metadata": {
            "tags": [],
            "needs_background": "light"
          }
        }
      ]
    },
    {
      "cell_type": "markdown",
      "metadata": {
        "id": "LzLNHoOJUDaK"
      },
      "source": [
        "### Setting up the network¶\r\n",
        "#### Preparing the data\r\n",
        "Adding the two datasets as TensorDatasets to PyTorch (also loading all other classes we'll need later)"
      ]
    },
    {
      "cell_type": "code",
      "metadata": {
        "id": "8lsSgx9JWB5e"
      },
      "source": [
        "!pip3 install fastai"
      ],
      "execution_count": null,
      "outputs": []
    },
    {
      "cell_type": "code",
      "metadata": {
        "id": "w59UV14ISqBr"
      },
      "source": [
        "import torch\r\n",
        "import torch.nn as nn\r\n",
        "import torch.optim as optim\r\n",
        "import torch.utils.data\r\n",
        "from torch.autograd import Variable\r\n",
        "\r\n",
        "from torch.utils.data import TensorDataset\r\n",
        "from torch.utils.data import DataLoader\r\n",
        "\r\n",
        "from fastai import learner\r\n",
        "from fastai.data import core\r\n",
        "\r\n",
        "train_x = train\r\n",
        "test_x = test\r\n",
        "train_y = train_x  # y = x since we are building an autoencoder\r\n",
        "test_y = test_x\r\n",
        "\r\n",
        "# Constructs a tensor object of the data and wraps them in a TensorDataset object.\r\n",
        "train_ds = TensorDataset(torch.tensor(train_x.values, dtype=torch.float), torch.tensor(train_y.values, dtype=torch.float))\r\n",
        "valid_ds = TensorDataset(torch.tensor(test_x.values, dtype=torch.float), torch.tensor(test_y.values, dtype=torch.float))"
      ],
      "execution_count": 76,
      "outputs": []
    },
    {
      "cell_type": "markdown",
      "metadata": {
        "id": "9GxQxMePXDA5"
      },
      "source": [
        "We now set things up to load the data, and we use a batch size that was optimized by previous students...note also that this is fastai v2, migration thanks to Jessica Lastow.\r\n",
        "\r\n"
      ]
    },
    {
      "cell_type": "code",
      "metadata": {
        "id": "zayQbJ7tSp2a"
      },
      "source": [
        "bs = 256\r\n",
        "\r\n",
        "# Converts the TensorDataset into a DataLoader object and combines into one DataLoaders object (a basic wrapper\r\n",
        "# around several DataLoader objects). \r\n",
        "train_dl = DataLoader(train_ds, batch_size=bs, shuffle=True)\r\n",
        "valid_dl = DataLoader(valid_ds, batch_size=bs * 2)\r\n",
        "dls = core.DataLoaders(train_dl, valid_dl)"
      ],
      "execution_count": 77,
      "outputs": []
    },
    {
      "cell_type": "markdown",
      "metadata": {
        "id": "kUGOcDjZXHop"
      },
      "source": [
        "### Preparing the network\r\n",
        "Here we have an example network. Details aren't too important, as long as they match what was already trained for us...in this case we have a LeakyReLU, tanh activation function, and a number of layers that goes from 4 to 200 to 20 to 3 (number of features in the hidden layer that we pick for testing compression) and then back all the way to 4."
      ]
    },
    {
      "cell_type": "code",
      "metadata": {
        "colab": {
          "base_uri": "https://localhost:8080/"
        },
        "id": "l72GZ_liSpzy",
        "outputId": "293f5c19-f5e6-4687-ecd5-d6805a567055"
      },
      "source": [
        "class AE_3D_200_LeakyReLU(nn.Module):\r\n",
        "    def __init__(self, n_features=4):\r\n",
        "        super(AE_3D_200_LeakyReLU, self).__init__()\r\n",
        "        self.en1 = nn.Linear(n_features, 200)\r\n",
        "        self.en2 = nn.Linear(200, 200)\r\n",
        "        self.en3 = nn.Linear(200, 20)\r\n",
        "        self.en4 = nn.Linear(20, 3)\r\n",
        "        self.de1 = nn.Linear(3, 20)\r\n",
        "        self.de2 = nn.Linear(20, 200)\r\n",
        "        self.de3 = nn.Linear(200, 200)\r\n",
        "        self.de4 = nn.Linear(200, n_features)\r\n",
        "        self.tanh = nn.Tanh()\r\n",
        "\r\n",
        "    def encode(self, x):\r\n",
        "        return self.en4(self.tanh(self.en3(self.tanh(self.en2(self.tanh(self.en1(x)))))))\r\n",
        "\r\n",
        "    def decode(self, x):\r\n",
        "        return self.de4(self.tanh(self.de3(self.tanh(self.de2(self.tanh(self.de1(self.tanh(x))))))))\r\n",
        "\r\n",
        "    def forward(self, x):\r\n",
        "        z = self.encode(x)\r\n",
        "        return self.decode(z)\r\n",
        "\r\n",
        "    def describe(self):\r\n",
        "        return 'in-200-200-20-3-20-200-200-out'\r\n",
        "\r\n",
        "#model = AE_3D_200_LeakyReLU().double()\r\n",
        "model = AE_3D_200_LeakyReLU()\r\n",
        "model.to('cpu')"
      ],
      "execution_count": 78,
      "outputs": [
        {
          "output_type": "execute_result",
          "data": {
            "text/plain": [
              "AE_3D_200_LeakyReLU(\n",
              "  (en1): Linear(in_features=4, out_features=200, bias=True)\n",
              "  (en2): Linear(in_features=200, out_features=200, bias=True)\n",
              "  (en3): Linear(in_features=200, out_features=20, bias=True)\n",
              "  (en4): Linear(in_features=20, out_features=3, bias=True)\n",
              "  (de1): Linear(in_features=3, out_features=20, bias=True)\n",
              "  (de2): Linear(in_features=20, out_features=200, bias=True)\n",
              "  (de3): Linear(in_features=200, out_features=200, bias=True)\n",
              "  (de4): Linear(in_features=200, out_features=4, bias=True)\n",
              "  (tanh): Tanh()\n",
              ")"
            ]
          },
          "metadata": {
            "tags": []
          },
          "execution_count": 78
        }
      ]
    },
    {
      "cell_type": "markdown",
      "metadata": {
        "id": "SSz7ed0sXRNj"
      },
      "source": [
        "We now have to pick a loss function - MSE loss is appropriate for a compression autoencoder since it reflects the [(input-output)/input] physical quantity that we want to minimize.\r\n"
      ]
    },
    {
      "cell_type": "code",
      "metadata": {
        "id": "zY1mLxmBSQ-5"
      },
      "source": [
        "from fastai.metrics import mse\r\n",
        "\r\n",
        "loss_func = nn.MSELoss()\r\n",
        "\r\n",
        "#bn_wd = False  # Don't use weight decay for batchnorm layers\r\n",
        "#true_wd = True  # weight decay will be used for all optimizers\r\n",
        "wd = 1e-6\r\n",
        "\r\n",
        "recorder = learner.Recorder()\r\n",
        "learn = learner.Learner(dls, model=model, wd=wd, loss_func=loss_func, cbs=recorder)\r\n",
        "#was: learn = basic_train.Learner(data=db, model=model, loss_func=loss_func, wd=wd, callback_fns=ActivationStats, bn_wd=bn_wd, true_wd=true_wd)"
      ],
      "execution_count": 79,
      "outputs": []
    },
    {
      "cell_type": "markdown",
      "metadata": {
        "id": "ZE6NNKqwXYgP"
      },
      "source": [
        "using Alternative 2 since we don't have access to pretrained network\r\n",
        "### Alternative 2: Training a new network\r\n",
        "\r\n",
        "Instead of using a pre-trained network, an alternative is to train a new network and use that instead.\r\n",
        "\r\n",
        "First, we want to find the best learning rate. The learning rate is a hyper-paramater that sets how much the weights of the network will change each step with respect to the loss gradient.\r\n",
        "\r\n",
        "Then we plot the loss versus the learning rates. We're interested in finding a good order of magnitude of learning rate, so we plot with a log scale.\r\n",
        "\r\n",
        "A good value for the learning rates is then either:\r\n",
        "\r\n",
        "- one tenth of the minimum before the divergence\r\n",
        "- when the slope is the steepest"
      ]
    },
    {
      "cell_type": "code",
      "metadata": {
        "colab": {
          "base_uri": "https://localhost:8080/",
          "height": 317
        },
        "id": "Wymt_gcfXWUJ",
        "outputId": "3a44e2bb-a192-42c6-8f87-7f8a76e9ae33"
      },
      "source": [
        "from fastai.callback import schedule\r\n",
        "\r\n",
        "lr_min, lr_steep = learn.lr_find()\r\n",
        "\r\n",
        "print('Learning rate with the minimum loss:', lr_min)\r\n",
        "print('Learning rate with the steepest gradient:', lr_steep)"
      ],
      "execution_count": 80,
      "outputs": [
        {
          "output_type": "stream",
          "text": [
            "Learning rate with the minimum loss: 0.014454397559165954\n",
            "Learning rate with the steepest gradient: 0.002511886414140463\n"
          ],
          "name": "stdout"
        },
        {
          "output_type": "display_data",
          "data": {
            "image/png": "[encoded data removed]",
            "text/plain": [
              "<Figure size 432x288 with 1 Axes>"
            ]
          },
          "metadata": {
            "tags": [],
            "needs_background": "light"
          }
        }
      ]
    },
    {
      "cell_type": "markdown",
      "metadata": {
        "id": "8sLmpOVzX5dL"
      },
      "source": [
        "Now we want to run the training!\r\n",
        "\r\n",
        "User-chosen variables:\r\n",
        "\r\n",
        "- n_epoch: The number of epochs, i.e how many times the to run through all of the training data once (i.e the 1266046 entries, see cell 2)\r\n",
        "- lr: The learning rate. Either choose lr_min, lr_steep from above or set your own."
      ]
    },
    {
      "cell_type": "code",
      "metadata": {
        "colab": {
          "base_uri": "https://localhost:8080/"
        },
        "id": "IQ7IYDXfXbpU",
        "outputId": "27bead6e-0e22-4ec5-fe65-ddd5f5ae4df1"
      },
      "source": [
        "import time\r\n",
        "\r\n",
        "start = time.perf_counter() # Starts timer\r\n",
        "learn.fit_one_cycle(n_epoch=100, lr_max=lr_min)\r\n",
        "\r\n",
        "end = time.perf_counter() # Ends timer\r\n",
        "delta_t = end - start\r\n",
        "print('Training took', delta_t, 'seconds')"
      ],
      "execution_count": 81,
      "outputs": [
        {
          "output_type": "stream",
          "text": [
            "[0, 2.071936845779419, 0.28380513191223145, '00:00']\n",
            "[0, 2.071936845779419, 0.28380513191223145, '00:00']\n",
            "[1, 0.6787644624710083, 0.23716697096824646, '00:01']\n",
            "[1, 0.6787644624710083, 0.23716697096824646, '00:01']\n",
            "[2, 0.3548169732093811, 0.22783078253269196, '00:01']\n",
            "[2, 0.3548169732093811, 0.22783078253269196, '00:01']\n",
            "[3, 0.26535603404045105, 0.22696618735790253, '00:01']\n",
            "[3, 0.26535603404045105, 0.22696618735790253, '00:01']\n",
            "[4, 0.23923711478710175, 0.22931702435016632, '00:01']\n",
            "[4, 0.23923711478710175, 0.22931702435016632, '00:01']\n",
            "[5, 0.23234952986240387, 0.22660580277442932, '00:01']\n",
            "[5, 0.23234952986240387, 0.22660580277442932, '00:01']\n",
            "[6, 0.1918395459651947, 0.1375131458044052, '00:01']\n",
            "[6, 0.1918395459651947, 0.1375131458044052, '00:01']\n",
            "[7, 0.15141241252422333, 0.11567175388336182, '00:01']\n",
            "[7, 0.15141241252422333, 0.11567175388336182, '00:01']\n",
            "[8, 0.07934311032295227, 0.040720731019973755, '00:01']\n",
            "[8, 0.07934311032295227, 0.040720731019973755, '00:01']\n",
            "[9, 0.05385227128863335, 0.0491756908595562, '00:01']\n",
            "[9, 0.05385227128863335, 0.0491756908595562, '00:01']\n",
            "[10, 0.047109223902225494, 0.04110220819711685, '00:01']\n",
            "[10, 0.047109223902225494, 0.04110220819711685, '00:01']\n",
            "[11, 0.04628628119826317, 0.04782440885901451, '00:01']\n",
            "[11, 0.04628628119826317, 0.04782440885901451, '00:01']\n",
            "[12, 0.04590420052409172, 0.04058722406625748, '00:01']\n",
            "[12, 0.04590420052409172, 0.04058722406625748, '00:01']\n",
            "[13, 0.04328251630067825, 0.01292031817138195, '00:01']\n",
            "[13, 0.04328251630067825, 0.01292031817138195, '00:01']\n",
            "[14, 0.03508162125945091, 0.008055846206843853, '00:01']\n",
            "[14, 0.03508162125945091, 0.008055846206843853, '00:01']\n",
            "[15, 0.0222711730748415, 0.005684745963662863, '00:01']\n",
            "[15, 0.0222711730748415, 0.005684745963662863, '00:01']\n",
            "[16, 0.02486233226954937, 0.030084945261478424, '00:01']\n",
            "[16, 0.02486233226954937, 0.030084945261478424, '00:01']\n",
            "[17, 0.030674904584884644, 0.03266925737261772, '00:01']\n",
            "[17, 0.030674904584884644, 0.03266925737261772, '00:01']\n",
            "[18, 0.02668021433055401, 0.00650963606312871, '00:01']\n",
            "[18, 0.02668021433055401, 0.00650963606312871, '00:01']\n",
            "[19, 0.043354663997888565, 0.1129901185631752, '00:01']\n",
            "[19, 0.043354663997888565, 0.1129901185631752, '00:01']\n",
            "[20, 0.04161772131919861, 0.02050386555492878, '00:01']\n",
            "[20, 0.04161772131919861, 0.02050386555492878, '00:01']\n",
            "[21, 0.033111050724983215, 0.010259868577122688, '00:01']\n",
            "[21, 0.033111050724983215, 0.010259868577122688, '00:01']\n",
            "[22, 0.027897709980607033, 0.04257941618561745, '00:01']\n",
            "[22, 0.027897709980607033, 0.04257941618561745, '00:01']\n",
            "[23, 0.02189798839390278, 0.00522693432867527, '00:01']\n",
            "[23, 0.02189798839390278, 0.00522693432867527, '00:01']\n",
            "[24, 0.03562895581126213, 0.024759752675890923, '00:01']\n",
            "[24, 0.03562895581126213, 0.024759752675890923, '00:01']\n",
            "[25, 0.021624334156513214, 0.015319781377911568, '00:01']\n",
            "[25, 0.021624334156513214, 0.015319781377911568, '00:01']\n",
            "[26, 0.022415166720747948, 0.008872827515006065, '00:01']\n",
            "[26, 0.022415166720747948, 0.008872827515006065, '00:01']\n",
            "[27, 0.018494438380002975, 0.022250361740589142, '00:01']\n",
            "[27, 0.018494438380002975, 0.022250361740589142, '00:01']\n",
            "[28, 0.021947093307971954, 0.025577902793884277, '00:01']\n",
            "[28, 0.021947093307971954, 0.025577902793884277, '00:01']\n",
            "[29, 0.019065072759985924, 0.013973070308566093, '00:01']\n",
            "[29, 0.019065072759985924, 0.013973070308566093, '00:01']\n",
            "[30, 0.014875712804496288, 0.03460424765944481, '00:01']\n",
            "[30, 0.014875712804496288, 0.03460424765944481, '00:01']\n",
            "[31, 0.019729455932974815, 0.023393899202346802, '00:00']\n",
            "[31, 0.019729455932974815, 0.023393899202346802, '00:00']\n",
            "[32, 0.014974270947277546, 0.031077172607183456, '00:01']\n",
            "[32, 0.014974270947277546, 0.031077172607183456, '00:01']\n",
            "[33, 0.019811104983091354, 0.05777420103549957, '00:01']\n",
            "[33, 0.019811104983091354, 0.05777420103549957, '00:01']\n",
            "[34, 0.2290254384279251, 0.1332237720489502, '00:01']\n",
            "[34, 0.2290254384279251, 0.1332237720489502, '00:01']\n",
            "[35, 0.12155693024396896, 0.06087551638484001, '00:01']\n",
            "[35, 0.12155693024396896, 0.06087551638484001, '00:01']\n",
            "[36, 0.09483461081981659, 0.0729186162352562, '00:01']\n",
            "[36, 0.09483461081981659, 0.0729186162352562, '00:01']\n",
            "[37, 0.08932746946811676, 0.08621684461832047, '00:01']\n",
            "[37, 0.08932746946811676, 0.08621684461832047, '00:01']\n",
            "[38, 0.06663623452186584, 0.04787016287446022, '00:01']\n",
            "[38, 0.06663623452186584, 0.04787016287446022, '00:01']\n",
            "[39, 0.06301683187484741, 0.05351791903376579, '00:01']\n",
            "[39, 0.06301683187484741, 0.05351791903376579, '00:01']\n",
            "[40, 0.05667341873049736, 0.04644084349274635, '00:01']\n",
            "[40, 0.05667341873049736, 0.04644084349274635, '00:01']\n",
            "[41, 0.0503213033080101, 0.05016439035534859, '00:00']\n",
            "[41, 0.0503213033080101, 0.05016439035534859, '00:00']\n",
            "[42, 0.048532478511333466, 0.044052887707948685, '00:01']\n",
            "[42, 0.048532478511333466, 0.044052887707948685, '00:01']\n",
            "[43, 0.05194813385605812, 0.041083890944719315, '00:01']\n",
            "[43, 0.05194813385605812, 0.041083890944719315, '00:01']\n",
            "[44, 0.050279125571250916, 0.040968816727399826, '00:01']\n",
            "[44, 0.050279125571250916, 0.040968816727399826, '00:01']\n",
            "[45, 0.04579836502671242, 0.044323649257421494, '00:01']\n",
            "[45, 0.04579836502671242, 0.044323649257421494, '00:01']\n",
            "[46, 0.04664643108844757, 0.03663543611764908, '00:01']\n",
            "[46, 0.04664643108844757, 0.03663543611764908, '00:01']\n",
            "[47, 0.042804233729839325, 0.03354531526565552, '00:01']\n",
            "[47, 0.042804233729839325, 0.03354531526565552, '00:01']\n",
            "[48, 0.03713472932577133, 0.04599330946803093, '00:01']\n",
            "[48, 0.03713472932577133, 0.04599330946803093, '00:01']\n",
            "[49, 0.024457663297653198, 0.009199588559567928, '00:01']\n",
            "[49, 0.024457663297653198, 0.009199588559567928, '00:01']\n",
            "[50, 0.01927136816084385, 0.015681738033890724, '00:01']\n",
            "[50, 0.01927136816084385, 0.015681738033890724, '00:01']\n",
            "[51, 0.013699310831725597, 0.00967139657586813, '00:01']\n",
            "[51, 0.013699310831725597, 0.00967139657586813, '00:01']\n",
            "[52, 0.010185923427343369, 0.021150685846805573, '00:01']\n",
            "[52, 0.010185923427343369, 0.021150685846805573, '00:01']\n",
            "[53, 0.01024986244738102, 0.019926024600863457, '00:01']\n",
            "[53, 0.01024986244738102, 0.019926024600863457, '00:01']\n",
            "[54, 0.009451255202293396, 0.011170760728418827, '00:01']\n",
            "[54, 0.009451255202293396, 0.011170760728418827, '00:01']\n",
            "[55, 0.010424747131764889, 0.02260533720254898, '00:00']\n",
            "[55, 0.010424747131764889, 0.02260533720254898, '00:00']\n",
            "[56, 0.008191530592739582, 0.00365752587094903, '00:01']\n",
            "[56, 0.008191530592739582, 0.00365752587094903, '00:01']\n",
            "[57, 0.007909425534307957, 0.01242126151919365, '00:01']\n",
            "[57, 0.007909425534307957, 0.01242126151919365, '00:01']\n",
            "[58, 0.007047104183584452, 0.004951125010848045, '00:01']\n",
            "[58, 0.007047104183584452, 0.004951125010848045, '00:01']\n",
            "[59, 0.004401594400405884, 0.014714020304381847, '00:01']\n",
            "[59, 0.004401594400405884, 0.014714020304381847, '00:01']\n",
            "[60, 0.006575007922947407, 0.00686474796384573, '00:01']\n",
            "[60, 0.006575007922947407, 0.00686474796384573, '00:01']\n",
            "[61, 0.0034009800292551517, 0.0021080158185213804, '00:01']\n",
            "[61, 0.0034009800292551517, 0.0021080158185213804, '00:01']\n",
            "[62, 0.004189429339021444, 0.0030563545878976583, '00:01']\n",
            "[62, 0.004189429339021444, 0.0030563545878976583, '00:01']\n",
            "[63, 0.0034489701502025127, 0.002770928433164954, '00:01']\n",
            "[63, 0.0034489701502025127, 0.002770928433164954, '00:01']\n",
            "[64, 0.0023327842354774475, 0.0016258737305179238, '00:01']\n",
            "[64, 0.0023327842354774475, 0.0016258737305179238, '00:01']\n",
            "[65, 0.002060597762465477, 0.001367837656289339, '00:01']\n",
            "[65, 0.002060597762465477, 0.001367837656289339, '00:01']\n",
            "[66, 0.0017144493758678436, 0.002435247879475355, '00:01']\n",
            "[66, 0.0017144493758678436, 0.002435247879475355, '00:01']\n",
            "[67, 0.001850828411988914, 0.0026793244760483503, '00:01']\n",
            "[67, 0.001850828411988914, 0.0026793244760483503, '00:01']\n",
            "[68, 0.0014796516625210643, 0.0006648762500844896, '00:01']\n",
            "[68, 0.0014796516625210643, 0.0006648762500844896, '00:01']\n",
            "[69, 0.0011814183089882135, 0.000774686224758625, '00:01']\n",
            "[69, 0.0011814183089882135, 0.000774686224758625, '00:01']\n",
            "[70, 0.0012045300099998713, 0.0008800597861409187, '00:01']\n",
            "[70, 0.0012045300099998713, 0.0008800597861409187, '00:01']\n",
            "[71, 0.0007813445990905166, 0.0003895070403814316, '00:01']\n",
            "[71, 0.0007813445990905166, 0.0003895070403814316, '00:01']\n",
            "[72, 0.0008201436139643192, 0.0013245741138234735, '00:01']\n",
            "[72, 0.0008201436139643192, 0.0013245741138234735, '00:01']\n",
            "[73, 0.0006362650892697275, 0.00039454729994758964, '00:01']\n",
            "[73, 0.0006362650892697275, 0.00039454729994758964, '00:01']\n",
            "[74, 0.0006055465200915933, 0.00044722636812366545, '00:01']\n",
            "[74, 0.0006055465200915933, 0.00044722636812366545, '00:01']\n",
            "[75, 0.0005017230869270861, 0.0005821480299346149, '00:01']\n",
            "[75, 0.0005017230869270861, 0.0005821480299346149, '00:01']\n",
            "[76, 0.0004457874456420541, 0.00047605173313058913, '00:00']\n",
            "[76, 0.0004457874456420541, 0.00047605173313058913, '00:00']\n",
            "[77, 0.00032787301461212337, 0.0002897874510381371, '00:01']\n",
            "[77, 0.00032787301461212337, 0.0002897874510381371, '00:01']\n",
            "[78, 0.0003311628242954612, 0.0003427108458708972, '00:01']\n",
            "[78, 0.0003311628242954612, 0.0003427108458708972, '00:01']\n",
            "[79, 0.0002767478581517935, 0.00016219750978052616, '00:01']\n",
            "[79, 0.0002767478581517935, 0.00016219750978052616, '00:01']\n",
            "[80, 0.00022466754307970405, 0.0002795626933220774, '00:01']\n",
            "[80, 0.00022466754307970405, 0.0002795626933220774, '00:01']\n",
            "[81, 0.00019534614693839103, 0.00019837691797874868, '00:01']\n",
            "[81, 0.00019534614693839103, 0.00019837691797874868, '00:01']\n",
            "[82, 0.00019148786668665707, 0.00018664990784600377, '00:01']\n",
            "[82, 0.00019148786668665707, 0.00018664990784600377, '00:01']\n",
            "[83, 0.00017129986372310668, 0.00020335160661488771, '00:01']\n",
            "[83, 0.00017129986372310668, 0.00020335160661488771, '00:01']\n",
            "[84, 0.0001437785685993731, 9.678147762315348e-05, '00:01']\n",
            "[84, 0.0001437785685993731, 9.678147762315348e-05, '00:01']\n",
            "[85, 0.00012338740634731948, 0.00011000574158970267, '00:01']\n",
            "[85, 0.00012338740634731948, 0.00011000574158970267, '00:01']\n",
            "[86, 0.00011440547677921131, 9.155998850474134e-05, '00:01']\n",
            "[86, 0.00011440547677921131, 9.155998850474134e-05, '00:01']\n",
            "[87, 0.00010694761294871569, 9.529777889838442e-05, '00:01']\n",
            "[87, 0.00010694761294871569, 9.529777889838442e-05, '00:01']\n",
            "[88, 9.761316323420033e-05, 8.495264773955569e-05, '00:01']\n",
            "[88, 9.761316323420033e-05, 8.495264773955569e-05, '00:01']\n",
            "[89, 9.229245188180357e-05, 8.1032638263423e-05, '00:01']\n",
            "[89, 9.229245188180357e-05, 8.1032638263423e-05, '00:01']\n",
            "[90, 8.221013558795676e-05, 7.62487543397583e-05, '00:01']\n",
            "[90, 8.221013558795676e-05, 7.62487543397583e-05, '00:01']\n",
            "[91, 7.933113374747336e-05, 7.544588152086362e-05, '00:00']\n",
            "[91, 7.933113374747336e-05, 7.544588152086362e-05, '00:00']\n",
            "[92, 7.522079977206886e-05, 7.353634282480925e-05, '00:01']\n",
            "[92, 7.522079977206886e-05, 7.353634282480925e-05, '00:01']\n",
            "[93, 7.297856791410595e-05, 7.307915075216442e-05, '00:01']\n",
            "[93, 7.297856791410595e-05, 7.307915075216442e-05, '00:01']\n",
            "[94, 7.098021887941286e-05, 7.068520062603056e-05, '00:01']\n",
            "[94, 7.098021887941286e-05, 7.068520062603056e-05, '00:01']\n",
            "[95, 6.880905129946768e-05, 6.69119181111455e-05, '00:00']\n",
            "[95, 6.880905129946768e-05, 6.69119181111455e-05, '00:00']\n",
            "[96, 6.626296817557886e-05, 6.598070467589423e-05, '00:01']\n",
            "[96, 6.626296817557886e-05, 6.598070467589423e-05, '00:01']\n",
            "[97, 6.400342681445181e-05, 6.544057396240532e-05, '00:01']\n",
            "[97, 6.400342681445181e-05, 6.544057396240532e-05, '00:01']\n",
            "[98, 6.288206350291148e-05, 6.430663779610768e-05, '00:01']\n",
            "[98, 6.288206350291148e-05, 6.430663779610768e-05, '00:01']\n",
            "[99, 6.219607166713104e-05, 6.38772253296338e-05, '00:00']\n",
            "[99, 6.219607166713104e-05, 6.38772253296338e-05, '00:00']\n",
            "Training took 116.18877083799998 seconds\n"
          ],
          "name": "stdout"
        }
      ]
    },
    {
      "cell_type": "markdown",
      "metadata": {
        "id": "3NHghjTObKJ6"
      },
      "source": [
        "Then we plot the loss as a function of batches and epochs to check if we reach a plateau.\r\n",
        "\r\n"
      ]
    },
    {
      "cell_type": "code",
      "metadata": {
        "colab": {
          "base_uri": "https://localhost:8080/",
          "height": 265
        },
        "id": "pZRnFe3EX-SG",
        "outputId": "b46fac63-afc2-4db8-e48d-4e02d8089a3f"
      },
      "source": [
        "recorder.plot_loss()"
      ],
      "execution_count": 82,
      "outputs": [
        {
          "output_type": "display_data",
          "data": {
            "image/png": "[encoded data removed]",
            "text/plain": [
              "<Figure size 432x288 with 1 Axes>"
            ]
          },
          "metadata": {
            "tags": [],
            "needs_background": "light"
          }
        }
      ]
    },
    {
      "cell_type": "markdown",
      "metadata": {
        "id": "7f8Bnp9fbQIJ"
      },
      "source": [
        "Then we evaluate the MSE on this network - it should be of the order of 0.001 or less if all has gone well...if it has not trained as well (note the pesky 0-mass peak above...) then it's going to be a bit higher.\r\n",
        "\r\n"
      ]
    },
    {
      "cell_type": "code",
      "metadata": {
        "colab": {
          "base_uri": "https://localhost:8080/"
        },
        "id": "mnoDiZdJbLuk",
        "outputId": "ecd8f7cc-60fe-4699-a18e-11b0a7c02435"
      },
      "source": [
        "learn.validate()"
      ],
      "execution_count": 83,
      "outputs": [
        {
          "output_type": "execute_result",
          "data": {
            "text/plain": [
              "(#1) [6.38772253296338e-05]"
            ]
          },
          "metadata": {
            "tags": []
          },
          "execution_count": 83
        }
      ]
    },
    {
      "cell_type": "markdown",
      "metadata": {
        "id": "sDObU0GfbYVT"
      },
      "source": [
        "### Plotting the outputs of the network¶\r\n",
        "Lazy-save of our output files (they'll also be on screen)\r\n"
      ]
    },
    {
      "cell_type": "code",
      "metadata": {
        "id": "Yx3zbGKdbR9p"
      },
      "source": [
        "import os\r\n",
        "save_dir = \"plotOutput\"\r\n",
        "if not os.path.exists(save_dir):\r\n",
        "    os.makedirs(save_dir)\r\n",
        "\r\n",
        "# A function in case we want to un-normalize and get back to physical quantities...\r\n",
        "\r\n",
        "def custom_unnormalize(df):\r\n",
        "    df['eta'] = df['eta'] * 5\r\n",
        "    df['phi'] = df['phi'] * 3\r\n",
        "    df['e'] = 10**df['e']\r\n",
        "    #df['m'] = 10**df['m']\r\n",
        "    df['pt'] = 10**(df['pt'])\r\n",
        "    return df\r\n",
        "\r\n",
        "# Make the histograms from the dataset...  "
      ],
      "execution_count": 84,
      "outputs": []
    },
    {
      "cell_type": "code",
      "metadata": {
        "colab": {
          "base_uri": "https://localhost:8080/",
          "height": 1000
        },
        "id": "KYp8nIIrbmff",
        "outputId": "cf2c04d1-3bdd-41d1-c661-84e16d8749dd"
      },
      "source": [
        "import numpy as np\r\n",
        "\r\n",
        "plt.close('all')\r\n",
        "\r\n",
        "#unit_list = ['[log(GeV)]', '[rad/3]', '[rad/3]', '[log(GeV)]']\r\n",
        "variable_list = [ r'$e$', r'$p_T$', r'$\\eta$', r'$\\phi$']\r\n",
        "\r\n",
        "line_style = ['--', '-']\r\n",
        "colors = ['orange', 'c']\r\n",
        "markers = ['*', 's']\r\n",
        "\r\n",
        "model.to('cpu')\r\n",
        "\r\n",
        "save = False # Option to save figure\r\n",
        "\r\n",
        "# Histograms\r\n",
        "idxs = (0, 100000)  # Choose events to compare\r\n",
        "data = torch.tensor(test[idxs[0]:idxs[1]].values, dtype=torch.float)\r\n",
        "#data = torch.tensor(test[idxs[0]:idxs[1]].values, dtype=torch.float).double()\r\n",
        "pred = model(data)\r\n",
        "pred = pred.detach().numpy()\r\n",
        "data = data.detach().numpy()\r\n",
        "\r\n",
        "data_df = pd.DataFrame(data, columns=test.columns)\r\n",
        "pred_df = pd.DataFrame(pred, columns=test.columns)\r\n",
        "\r\n",
        "unnormalized_data_df = custom_unnormalize(data_df)\r\n",
        "unnormalized_pred_df = custom_unnormalize(pred_df)    \r\n",
        "\r\n",
        "alph = 0.8\r\n",
        "n_bins = 200\r\n",
        "for kk in np.arange(4):\r\n",
        "    plt.figure()\r\n",
        "    n_hist_data, bin_edges, _ = plt.hist(data[:, kk], color=colors[1], label='Input', alpha=1, bins=n_bins)\r\n",
        "    n_hist_pred, _, _ = plt.hist(pred[:, kk], color=colors[0], label='Output', alpha=alph, bins=bin_edges)\r\n",
        "    plt.suptitle(test.columns[kk])\r\n",
        "    plt.xlabel(test.columns[kk])\r\n",
        "    plt.ylabel('Number of events')\r\n",
        "    # ms.sciy()\r\n",
        "    plt.yscale('log')\r\n",
        "    if save:\r\n",
        "        plt.savefig(os.path.join(save_dir,test.columns[kk]+'.png'))\r\n",
        "    plt.legend()"
      ],
      "execution_count": 90,
      "outputs": [
        {
          "output_type": "display_data",
          "data": {
            "image/png": "[encoded data removed]",
            "text/plain": [
              "<Figure size 432x288 with 1 Axes>"
            ]
          },
          "metadata": {
            "tags": [],
            "needs_background": "light"
          }
        },
        {
          "output_type": "display_data",
          "data": {
            "image/png": "[encoded data removed]",
            "text/plain": [
              "<Figure size 432x288 with 1 Axes>"
            ]
          },
          "metadata": {
            "tags": [],
            "needs_background": "light"
          }
        },
        {
          "output_type": "display_data",
          "data": {
            "image/png": "[encoded data removed]",
            "text/plain": [
              "<Figure size 432x288 with 1 Axes>"
            ]
          },
          "metadata": {
            "tags": [],
            "needs_background": "light"
          }
        },
        {
          "output_type": "display_data",
          "data": {
            "image/png": "[encoded data removed]",
            "text/plain": [
              "<Figure size 432x288 with 1 Axes>"
            ]
          },
          "metadata": {
            "tags": [],
            "needs_background": "light"
          }
        }
      ]
    },
    {
      "cell_type": "code",
      "metadata": {
        "id": "ggyyLe2ydBeo"
      },
      "source": [
        ""
      ],
      "execution_count": null,
      "outputs": []
    }
  ]
}