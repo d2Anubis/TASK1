{
  "nbformat": 4,
  "nbformat_minor": 0,
  "metadata": {
    "colab": {
      "name": "autoencoders.ipynb",
      "provenance": [],
      "collapsed_sections": [],
      "toc_visible": true
    },
    "kernelspec": {
      "name": "python3",
      "display_name": "Python 3"
    }
  },
  "cells": [
    {
      "cell_type": "code",
      "metadata": {
        "id": "Sqe-oDDYKG8t"
      },
      "source": [
        "import pandas as pd\r\n",
        "\r\n",
        "dataset = []\r\n",
        "\r\n",
        "#reading the csv file\r\n",
        "with open(\"monojet_Zp2000.0_DM_50.0_chan3.csv\", mode='r') as f:\r\n",
        "  for line in f:\r\n",
        "    #separate each line based on semicolon\r\n",
        "    temp = line.split(';')\r\n",
        "\r\n",
        "    #now we have event ID; process ID; event weight; etc separated from our required data\r\n",
        "    # extract each 4 momentum from each row and consider only those which have ID = 'j'\r\n",
        "    #step 1: only read after the index = 5  to avoid reading event ID; process ID; etc. details\r\n",
        "    #step 2: iterate through the row and extract each jet having ID = 'j'\r\n",
        "    \r\n",
        "    for jet in temp:\r\n",
        "      jet = jet.split(',')\r\n",
        "      if jet[0] == 'j':\r\n",
        "        # we are not storing event ID here but can be done if required if we need it later for mapping purpose\r\n",
        "        dataset.append([jet[1], jet[2], jet[3], jet[4]])\r\n",
        "\r\n",
        "#changing the dataset from list to Pandas DataFrame\r\n",
        "dataset = pd.DataFrame(dataset, columns=['e', 'pt', 'eta', 'phi'])"
      ],
      "execution_count": 1,
      "outputs": []
    },
    {
      "cell_type": "code",
      "metadata": {
        "colab": {
          "base_uri": "https://localhost:8080/",
          "height": 195
        },
        "id": "LQa23-BwLKCF",
        "outputId": "5c39cab5-63d4-44b3-e7de-e830ada557dd"
      },
      "source": [
        "#viewing the top of the dataset\r\n",
        "dataset.head()"
      ],
      "execution_count": 2,
      "outputs": [
        {
          "output_type": "execute_result",
          "data": {
            "text/html": [
              "<div>\n",
              "<style scoped>\n",
              "    .dataframe tbody tr th:only-of-type {\n",
              "        vertical-align: middle;\n",
              "    }\n",
              "\n",
              "    .dataframe tbody tr th {\n",
              "        vertical-align: top;\n",
              "    }\n",
              "\n",
              "    .dataframe thead th {\n",
              "        text-align: right;\n",
              "    }\n",
              "</style>\n",
              "<table border=\"1\" class=\"dataframe\">\n",
              "  <thead>\n",
              "    <tr style=\"text-align: right;\">\n",
              "      <th></th>\n",
              "      <th>e</th>\n",
              "      <th>pt</th>\n",
              "      <th>eta</th>\n",
              "      <th>phi</th>\n",
              "    </tr>\n",
              "  </thead>\n",
              "  <tbody>\n",
              "    <tr>\n",
              "      <th>0</th>\n",
              "      <td>258722</td>\n",
              "      <td>243675</td>\n",
              "      <td>0.328962</td>\n",
              "      <td>2.25014</td>\n",
              "    </tr>\n",
              "    <tr>\n",
              "      <th>1</th>\n",
              "      <td>520092</td>\n",
              "      <td>108590</td>\n",
              "      <td>-2.2473</td>\n",
              "      <td>-1.85679</td>\n",
              "    </tr>\n",
              "    <tr>\n",
              "      <th>2</th>\n",
              "      <td>383024</td>\n",
              "      <td>88405.6</td>\n",
              "      <td>2.14516</td>\n",
              "      <td>-1.95635</td>\n",
              "    </tr>\n",
              "    <tr>\n",
              "      <th>3</th>\n",
              "      <td>39507.6</td>\n",
              "      <td>35365.1</td>\n",
              "      <td>0.47046</td>\n",
              "      <td>-1.16445</td>\n",
              "    </tr>\n",
              "    <tr>\n",
              "      <th>4</th>\n",
              "      <td>225430</td>\n",
              "      <td>26878.2</td>\n",
              "      <td>-2.81608</td>\n",
              "      <td>-2.25938</td>\n",
              "    </tr>\n",
              "  </tbody>\n",
              "</table>\n",
              "</div>"
            ],
            "text/plain": [
              "         e       pt       eta       phi\n",
              "0   258722   243675  0.328962   2.25014\n",
              "1   520092   108590   -2.2473  -1.85679\n",
              "2   383024  88405.6   2.14516  -1.95635\n",
              "3  39507.6  35365.1   0.47046  -1.16445\n",
              "4   225430  26878.2  -2.81608  -2.25938"
            ]
          },
          "metadata": {
            "tags": []
          },
          "execution_count": 2
        }
      ]
    },
    {
      "cell_type": "code",
      "metadata": {
        "colab": {
          "base_uri": "https://localhost:8080/"
        },
        "id": "LOvBlrFlMpyv",
        "outputId": "024f71d9-1245-4049-eba0-58f3a8f04a5e"
      },
      "source": [
        "#sanity check for datatype of the columns\r\n",
        "dataset.info()"
      ],
      "execution_count": 3,
      "outputs": [
        {
          "output_type": "stream",
          "text": [
            "<class 'pandas.core.frame.DataFrame'>\n",
            "RangeIndex: 22661 entries, 0 to 22660\n",
            "Data columns (total 4 columns):\n",
            " #   Column  Non-Null Count  Dtype \n",
            "---  ------  --------------  ----- \n",
            " 0   e       22661 non-null  object\n",
            " 1   pt      22661 non-null  object\n",
            " 2   eta     22661 non-null  object\n",
            " 3   phi     22661 non-null  object\n",
            "dtypes: object(4)\n",
            "memory usage: 708.3+ KB\n"
          ],
          "name": "stdout"
        }
      ]
    },
    {
      "cell_type": "code",
      "metadata": {
        "colab": {
          "base_uri": "https://localhost:8080/"
        },
        "id": "jdxh0MeAPn9t",
        "outputId": "c34f080d-25a6-4dce-ee06-bb3948fe37f7"
      },
      "source": [
        "#converting data types of columns from object to numeric\r\n",
        "dataset = dataset.apply(pd.to_numeric)\r\n",
        "dataset.info()"
      ],
      "execution_count": 4,
      "outputs": [
        {
          "output_type": "stream",
          "text": [
            "<class 'pandas.core.frame.DataFrame'>\n",
            "RangeIndex: 22661 entries, 0 to 22660\n",
            "Data columns (total 4 columns):\n",
            " #   Column  Non-Null Count  Dtype  \n",
            "---  ------  --------------  -----  \n",
            " 0   e       22661 non-null  float64\n",
            " 1   pt      22661 non-null  float64\n",
            " 2   eta     22661 non-null  float64\n",
            " 3   phi     22661 non-null  float64\n",
            "dtypes: float64(4)\n",
            "memory usage: 708.3 KB\n"
          ],
          "name": "stdout"
        }
      ]
    },
    {
      "cell_type": "code",
      "metadata": {
        "id": "PtpjaNW1dRB5"
      },
      "source": [
        "# skip this part to see the un-normalized plots of the data in \"Step : Plotting\" below. \r\n",
        "# However this step is later required for training and testing the autoencoders\r\n",
        "# normalizing/scaling our data\r\n",
        "import math\r\n",
        "dataset['e'] = dataset['e'].apply(math.log10)\r\n",
        "dataset['pt'] = dataset['pt'].apply(math.log10)\r\n",
        "dataset['eta'] = dataset['eta']/5.0\r\n",
        "dataset['phi'] = dataset['phi']/3.0"
      ],
      "execution_count": null,
      "outputs": []
    },
    {
      "cell_type": "code",
      "metadata": {
        "colab": {
          "base_uri": "https://localhost:8080/"
        },
        "id": "nisJJjg1RNGs",
        "outputId": "a2f55088-84e3-4a5d-cff9-af476a9947ad"
      },
      "source": [
        "#creating train and test data separately to test our model performance later\r\n",
        "from sklearn.model_selection import train_test_split\r\n",
        "train, test = train_test_split(dataset, test_size=0.33, random_state=42)\r\n",
        "print(\"Train dataset : \", train.shape)\r\n",
        "print(\"Test dataset : \", test.shape)"
      ],
      "execution_count": null,
      "outputs": [
        {
          "output_type": "stream",
          "text": [
            "Train dataset :  (15182, 4)\n",
            "Test dataset :  (7479, 4)\n"
          ],
          "name": "stdout"
        }
      ]
    },
    {
      "cell_type": "markdown",
      "metadata": {
        "id": "3yLPl2h_SqYS"
      },
      "source": [
        "Now we plot the data using the matplotlib library. The units reflect the normalization, but it's the shape that we care about.\r\n",
        "\r\n"
      ]
    },
    {
      "cell_type": "code",
      "metadata": {
        "colab": {
          "base_uri": "https://localhost:8080/",
          "height": 1000
        },
        "id": "hoS2reRCROjb",
        "outputId": "fbe6cc22-b770-4360-e35e-b63b7630966e"
      },
      "source": [
        "#Step : Plotting\r\n",
        "#if you use the normalization code above this part will generate the normalized plots, else the un-normalized plots\r\n",
        "import matplotlib.pyplot as plt\r\n",
        "\r\n",
        "#unit_list = ['[log(GeV)]', '[rad/3]', '[rad/3]', '[log(GeV)]']\r\n",
        "variable_list = [ r'$e$', r'$p_T$', r'$\\eta$', r'$\\phi$']\r\n",
        "\r\n",
        "branches=[\"e\",\"pt\",\"eta\",\"phi\"]\r\n",
        "\r\n",
        "n_bins = 100\r\n",
        "\r\n",
        "for kk in range(0,4):\r\n",
        "    n_hist_data, bin_edges, _ = plt.hist(train[branches[kk]], color='gray', label='Input', alpha=1, bins=n_bins)\r\n",
        "    plt.xlabel(xlabel=variable_list[kk])\r\n",
        "    plt.ylabel('# of jets')\r\n",
        "    #plt.savefig(\"fourmomentum_\"+branches[kk],dpi=300)\r\n",
        "    plt.show()"
      ],
      "execution_count": null,
      "outputs": [
        {
          "output_type": "display_data",
          "data": {
            "image/png": "[encoded data removed]",
            "text/plain": [
              "<Figure size 432x288 with 1 Axes>"
            ]
          },
          "metadata": {
            "tags": [],
            "needs_background": "light"
          }
        },
        {
          "output_type": "display_data",
          "data": {
            "image/png": "[encoded data removed]",
            "text/plain": [
              "<Figure size 432x288 with 1 Axes>"
            ]
          },
          "metadata": {
            "tags": [],
            "needs_background": "light"
          }
        },
        {
          "output_type": "display_data",
          "data": {
            "image/png": "[encoded data removed]",
            "text/plain": [
              "<Figure size 432x288 with 1 Axes>"
            ]
          },
          "metadata": {
            "tags": [],
            "needs_background": "light"
          }
        },
        {
          "output_type": "display_data",
          "data": {
            "image/png": "[encoded data removed]",
            "text/plain": [
              "<Figure size 432x288 with 1 Axes>"
            ]
          },
          "metadata": {
            "tags": [],
            "needs_background": "light"
          }
        }
      ]
    },
    {
      "cell_type": "markdown",
      "metadata": {
        "id": "LzLNHoOJUDaK"
      },
      "source": [
        "### Setting up the network¶\r\n",
        "#### Preparing the data\r\n",
        "Adding the two datasets as TensorDatasets to PyTorch (also loading all other classes we'll need later)"
      ]
    },
    {
      "cell_type": "code",
      "metadata": {
        "id": "8lsSgx9JWB5e"
      },
      "source": [
        "!pip uninstall fastai\r\n",
        "!pip3 install fastai"
      ],
      "execution_count": null,
      "outputs": []
    },
    {
      "cell_type": "code",
      "metadata": {
        "id": "w59UV14ISqBr"
      },
      "source": [
        "import torch\r\n",
        "import torch.nn as nn\r\n",
        "import torch.optim as optim\r\n",
        "import torch.utils.data\r\n",
        "from torch.autograd import Variable\r\n",
        "\r\n",
        "from torch.utils.data import TensorDataset\r\n",
        "from torch.utils.data import DataLoader\r\n",
        "\r\n",
        "from fastai import learner\r\n",
        "from fastai.data import core\r\n",
        "\r\n",
        "train_x = train\r\n",
        "test_x = test\r\n",
        "train_y = train_x  # y = x since we are building an autoencoder\r\n",
        "test_y = test_x\r\n",
        "\r\n",
        "# Constructs a tensor object of the data and wraps them in a TensorDataset object.\r\n",
        "train_ds = TensorDataset(torch.tensor(train_x.values, dtype=torch.float), torch.tensor(train_y.values, dtype=torch.float))\r\n",
        "valid_ds = TensorDataset(torch.tensor(test_x.values, dtype=torch.float), torch.tensor(test_y.values, dtype=torch.float))"
      ],
      "execution_count": null,
      "outputs": []
    },
    {
      "cell_type": "markdown",
      "metadata": {
        "id": "9GxQxMePXDA5"
      },
      "source": [
        "We now set things up to load the data, and we use a batch size that was optimized by previous students...note also that this is fastai v2, migration thanks to Jessica Lastow.\r\n",
        "\r\n"
      ]
    },
    {
      "cell_type": "code",
      "metadata": {
        "id": "zayQbJ7tSp2a"
      },
      "source": [
        "bs = 256\r\n",
        "\r\n",
        "# Converts the TensorDataset into a DataLoader object and combines into one DataLoaders object (a basic wrapper\r\n",
        "# around several DataLoader objects). \r\n",
        "train_dl = DataLoader(train_ds, batch_size=bs, shuffle=True)\r\n",
        "valid_dl = DataLoader(valid_ds, batch_size=bs * 2)\r\n",
        "dls = core.DataLoaders(train_dl, valid_dl)"
      ],
      "execution_count": null,
      "outputs": []
    },
    {
      "cell_type": "markdown",
      "metadata": {
        "id": "kUGOcDjZXHop"
      },
      "source": [
        "### Preparing the network\r\n",
        "Here we have an example network. Details aren't too important, as long as they match what was already trained for us...in this case we have a LeakyReLU, tanh activation function, and a number of layers that goes from 4 to 200 to 20 to 3 (number of features in the hidden layer that we pick for testing compression) and then back all the way to 4."
      ]
    },
    {
      "cell_type": "code",
      "metadata": {
        "colab": {
          "base_uri": "https://localhost:8080/"
        },
        "id": "l72GZ_liSpzy",
        "outputId": "143c91b0-025b-4877-ee80-e23e1dd7fd04"
      },
      "source": [
        "class AE_3D_200_LeakyReLU(nn.Module):\r\n",
        "    def __init__(self, n_features=4):\r\n",
        "        super(AE_3D_200_LeakyReLU, self).__init__()\r\n",
        "        self.en1 = nn.Linear(n_features, 200)\r\n",
        "        self.en2 = nn.Linear(200, 200)\r\n",
        "        self.en3 = nn.Linear(200, 20)\r\n",
        "        self.en4 = nn.Linear(20, 3)\r\n",
        "        self.de1 = nn.Linear(3, 20)\r\n",
        "        self.de2 = nn.Linear(20, 200)\r\n",
        "        self.de3 = nn.Linear(200, 200)\r\n",
        "        self.de4 = nn.Linear(200, n_features)\r\n",
        "        self.tanh = nn.Tanh()\r\n",
        "\r\n",
        "    def encode(self, x):\r\n",
        "        return self.en4(self.tanh(self.en3(self.tanh(self.en2(self.tanh(self.en1(x)))))))\r\n",
        "\r\n",
        "    def decode(self, x):\r\n",
        "        return self.de4(self.tanh(self.de3(self.tanh(self.de2(self.tanh(self.de1(self.tanh(x))))))))\r\n",
        "\r\n",
        "    def forward(self, x):\r\n",
        "        z = self.encode(x)\r\n",
        "        return self.decode(z)\r\n",
        "\r\n",
        "    def describe(self):\r\n",
        "        return 'in-200-200-20-3-20-200-200-out'\r\n",
        "\r\n",
        "#model = AE_3D_200_LeakyReLU().double()\r\n",
        "model = AE_3D_200_LeakyReLU()\r\n",
        "model.to('cpu')"
      ],
      "execution_count": null,
      "outputs": [
        {
          "output_type": "execute_result",
          "data": {
            "text/plain": [
              "AE_3D_200_LeakyReLU(\n",
              "  (en1): Linear(in_features=4, out_features=200, bias=True)\n",
              "  (en2): Linear(in_features=200, out_features=200, bias=True)\n",
              "  (en3): Linear(in_features=200, out_features=20, bias=True)\n",
              "  (en4): Linear(in_features=20, out_features=3, bias=True)\n",
              "  (de1): Linear(in_features=3, out_features=20, bias=True)\n",
              "  (de2): Linear(in_features=20, out_features=200, bias=True)\n",
              "  (de3): Linear(in_features=200, out_features=200, bias=True)\n",
              "  (de4): Linear(in_features=200, out_features=4, bias=True)\n",
              "  (tanh): Tanh()\n",
              ")"
            ]
          },
          "metadata": {
            "tags": []
          },
          "execution_count": 11
        }
      ]
    },
    {
      "cell_type": "markdown",
      "metadata": {
        "id": "SSz7ed0sXRNj"
      },
      "source": [
        "We now have to pick a loss function - MSE loss is appropriate for a compression autoencoder since it reflects the [(input-output)/input] physical quantity that we want to minimize.\r\n"
      ]
    },
    {
      "cell_type": "code",
      "metadata": {
        "id": "zY1mLxmBSQ-5"
      },
      "source": [
        "from fastai.metrics import mse\r\n",
        "\r\n",
        "loss_func = nn.MSELoss()\r\n",
        "\r\n",
        "#bn_wd = False  # Don't use weight decay for batchnorm layers\r\n",
        "#true_wd = True  # weight decay will be used for all optimizers\r\n",
        "wd = 1e-6\r\n",
        "\r\n",
        "recorder = learner.Recorder()\r\n",
        "learn = learner.Learner(dls, model=model, wd=wd, loss_func=loss_func, cbs=recorder)\r\n",
        "#was: learn = basic_train.Learner(data=db, model=model, loss_func=loss_func, wd=wd, callback_fns=ActivationStats, bn_wd=bn_wd, true_wd=true_wd)"
      ],
      "execution_count": null,
      "outputs": []
    },
    {
      "cell_type": "markdown",
      "metadata": {
        "id": "ZE6NNKqwXYgP"
      },
      "source": [
        "using Alternative 2 since we don't have access to pretrained network\r\n",
        "### Alternative 2: Training a new network\r\n",
        "\r\n",
        "Instead of using a pre-trained network, an alternative is to train a new network and use that instead.\r\n",
        "\r\n",
        "First, we want to find the best learning rate. The learning rate is a hyper-paramater that sets how much the weights of the network will change each step with respect to the loss gradient.\r\n",
        "\r\n",
        "Then we plot the loss versus the learning rates. We're interested in finding a good order of magnitude of learning rate, so we plot with a log scale.\r\n",
        "\r\n",
        "A good value for the learning rates is then either:\r\n",
        "\r\n",
        "- one tenth of the minimum before the divergence\r\n",
        "- when the slope is the steepest"
      ]
    },
    {
      "cell_type": "code",
      "metadata": {
        "colab": {
          "base_uri": "https://localhost:8080/",
          "height": 317
        },
        "id": "Wymt_gcfXWUJ",
        "outputId": "8a0aaec2-9243-495d-f1fd-90eb4ddface2"
      },
      "source": [
        "from fastai.callback import schedule\r\n",
        "\r\n",
        "lr_min, lr_steep = learn.lr_find()\r\n",
        "\r\n",
        "print('Learning rate with the minimum loss:', lr_min)\r\n",
        "print('Learning rate with the steepest gradient:', lr_steep)"
      ],
      "execution_count": null,
      "outputs": [
        {
          "output_type": "stream",
          "text": [
            "Learning rate with the minimum loss: 0.012022644281387329\n",
            "Learning rate with the steepest gradient: 0.002511886414140463\n"
          ],
          "name": "stdout"
        },
        {
          "output_type": "display_data",
          "data": {
            "image/png": "[encoded data removed]",
            "text/plain": [
              "<Figure size 432x288 with 1 Axes>"
            ]
          },
          "metadata": {
            "tags": [],
            "needs_background": "light"
          }
        }
      ]
    },
    {
      "cell_type": "markdown",
      "metadata": {
        "id": "8sLmpOVzX5dL"
      },
      "source": [
        "Now we want to run the training!\r\n",
        "\r\n",
        "User-chosen variables:\r\n",
        "\r\n",
        "- n_epoch: The number of epochs, i.e how many times the to run through all of the training data once (i.e the 1266046 entries, see cell 2)\r\n",
        "- lr: The learning rate. Either choose lr_min, lr_steep from above or set your own."
      ]
    },
    {
      "cell_type": "code",
      "metadata": {
        "colab": {
          "base_uri": "https://localhost:8080/"
        },
        "id": "IQ7IYDXfXbpU",
        "outputId": "d311dfed-3fcf-44f6-fddc-28f04ec13b93"
      },
      "source": [
        "import time\r\n",
        "\r\n",
        "start = time.perf_counter() # Starts timer\r\n",
        "learn.fit_one_cycle(n_epoch=100, lr_max=lr_min)\r\n",
        "\r\n",
        "end = time.perf_counter() # Ends timer\r\n",
        "delta_t = end - start\r\n",
        "print('Training took', delta_t, 'seconds')"
      ],
      "execution_count": null,
      "outputs": [
        {
          "output_type": "stream",
          "text": [
            "[0, 2.428142786026001, 0.5193189382553101, '00:00']\n",
            "[0, 2.428142786026001, 0.5193189382553101, '00:00']\n",
            "[1, 0.7636606097221375, 0.24350394308567047, '00:00']\n",
            "[1, 0.7636606097221375, 0.24350394308567047, '00:00']\n",
            "[2, 0.37817373871803284, 0.22752144932746887, '00:00']\n",
            "[2, 0.37817373871803284, 0.22752144932746887, '00:00']\n",
            "[3, 0.2715424597263336, 0.2298634946346283, '00:00']\n",
            "[3, 0.2715424597263336, 0.2298634946346283, '00:00']\n",
            "[4, 0.23702457547187805, 0.19781096279621124, '00:00']\n",
            "[4, 0.23702457547187805, 0.19781096279621124, '00:00']\n",
            "[5, 0.1706453561782837, 0.13388343155384064, '00:00']\n",
            "[5, 0.1706453561782837, 0.13388343155384064, '00:00']\n",
            "[6, 0.10275600850582123, 0.04431337118148804, '00:00']\n",
            "[6, 0.10275600850582123, 0.04431337118148804, '00:00']\n",
            "[7, 0.058376602828502655, 0.04087497293949127, '00:00']\n",
            "[7, 0.058376602828502655, 0.04087497293949127, '00:00']\n",
            "[8, 0.04591529816389084, 0.04067210108041763, '00:00']\n",
            "[8, 0.04591529816389084, 0.04067210108041763, '00:00']\n",
            "[9, 0.03397110104560852, 0.024647526443004608, '00:00']\n",
            "[9, 0.03397110104560852, 0.024647526443004608, '00:00']\n",
            "[10, 0.026988249272108078, 0.014330778270959854, '00:00']\n",
            "[10, 0.026988249272108078, 0.014330778270959854, '00:00']\n",
            "[11, 0.018925322219729424, 0.03279340639710426, '00:00']\n",
            "[11, 0.018925322219729424, 0.03279340639710426, '00:00']\n",
            "[12, 0.01642739214003086, 0.009109276346862316, '00:00']\n",
            "[12, 0.01642739214003086, 0.009109276346862316, '00:00']\n",
            "[13, 0.016717510297894478, 0.007699619047343731, '00:00']\n",
            "[13, 0.016717510297894478, 0.007699619047343731, '00:00']\n",
            "[14, 0.027075858786702156, 0.027874156832695007, '00:00']\n",
            "[14, 0.027075858786702156, 0.027874156832695007, '00:00']\n",
            "[15, 0.029682958498597145, 0.010812433436512947, '00:00']\n",
            "[15, 0.029682958498597145, 0.010812433436512947, '00:00']\n",
            "[16, 0.026379136368632317, 0.00920137483626604, '00:00']\n",
            "[16, 0.026379136368632317, 0.00920137483626604, '00:00']\n",
            "[17, 0.025785531848669052, 0.010488534346222878, '00:00']\n",
            "[17, 0.025785531848669052, 0.010488534346222878, '00:00']\n",
            "[18, 0.02501527965068817, 0.012865426950156689, '00:00']\n",
            "[18, 0.02501527965068817, 0.012865426950156689, '00:00']\n",
            "[19, 0.02872779779136181, 0.012621928006410599, '00:00']\n",
            "[19, 0.02872779779136181, 0.012621928006410599, '00:00']\n",
            "[20, 0.02697920985519886, 0.022844452410936356, '00:00']\n",
            "[20, 0.02697920985519886, 0.022844452410936356, '00:00']\n",
            "[21, 0.023927981033921242, 0.057627614587545395, '00:00']\n",
            "[21, 0.023927981033921242, 0.057627614587545395, '00:00']\n",
            "[22, 0.03539501130580902, 0.01171843707561493, '00:00']\n",
            "[22, 0.03539501130580902, 0.01171843707561493, '00:00']\n",
            "[23, 0.032144833356142044, 0.015052374452352524, '00:00']\n",
            "[23, 0.032144833356142044, 0.015052374452352524, '00:00']\n",
            "[24, 0.020007120445370674, 0.003418679814785719, '00:00']\n",
            "[24, 0.020007120445370674, 0.003418679814785719, '00:00']\n",
            "[25, 0.03975652903318405, 0.030321232974529266, '00:00']\n",
            "[25, 0.03975652903318405, 0.030321232974529266, '00:00']\n",
            "[26, 0.02283632569015026, 0.004549381323158741, '00:00']\n",
            "[26, 0.02283632569015026, 0.004549381323158741, '00:00']\n",
            "[27, 0.016598351299762726, 0.03886113315820694, '00:00']\n",
            "[27, 0.016598351299762726, 0.03886113315820694, '00:00']\n",
            "[28, 0.013877740129828453, 0.02397262305021286, '00:00']\n",
            "[28, 0.013877740129828453, 0.02397262305021286, '00:00']\n",
            "[29, 0.018936818465590477, 0.00497809424996376, '00:00']\n",
            "[29, 0.018936818465590477, 0.00497809424996376, '00:00']\n",
            "[30, 0.014433059841394424, 0.005466764327138662, '00:00']\n",
            "[30, 0.014433059841394424, 0.005466764327138662, '00:00']\n",
            "[31, 0.016952062025666237, 0.00680129649117589, '00:00']\n",
            "[31, 0.016952062025666237, 0.00680129649117589, '00:00']\n",
            "[32, 0.012415282428264618, 0.007417669519782066, '00:00']\n",
            "[32, 0.012415282428264618, 0.007417669519782066, '00:00']\n",
            "[33, 0.013389931991696358, 0.008000144734978676, '00:00']\n",
            "[33, 0.013389931991696358, 0.008000144734978676, '00:00']\n",
            "[34, 0.011079641990363598, 0.004072477109730244, '00:00']\n",
            "[34, 0.011079641990363598, 0.004072477109730244, '00:00']\n",
            "[35, 0.036601077765226364, 0.017436780035495758, '00:00']\n",
            "[35, 0.036601077765226364, 0.017436780035495758, '00:00']\n",
            "[36, 0.017496520653367043, 0.016014406457543373, '00:00']\n",
            "[36, 0.017496520653367043, 0.016014406457543373, '00:00']\n",
            "[37, 0.011319231241941452, 0.009994611144065857, '00:00']\n",
            "[37, 0.011319231241941452, 0.009994611144065857, '00:00']\n",
            "[38, 0.00973479449748993, 0.0031252510379999876, '00:00']\n",
            "[38, 0.00973479449748993, 0.0031252510379999876, '00:00']\n",
            "[39, 0.009870116598904133, 0.0040217554196715355, '00:00']\n",
            "[39, 0.009870116598904133, 0.0040217554196715355, '00:00']\n",
            "[40, 0.01027014572173357, 0.005481378175318241, '00:00']\n",
            "[40, 0.01027014572173357, 0.005481378175318241, '00:00']\n",
            "[41, 0.007055418100208044, 0.006888374220579863, '00:00']\n",
            "[41, 0.007055418100208044, 0.006888374220579863, '00:00']\n",
            "[42, 0.009948265738785267, 0.006981071084737778, '00:00']\n",
            "[42, 0.009948265738785267, 0.006981071084737778, '00:00']\n",
            "[43, 0.007818649522960186, 0.002392359310761094, '00:00']\n",
            "[43, 0.007818649522960186, 0.002392359310761094, '00:00']\n",
            "[44, 0.0057984632439911366, 0.0012955468846485019, '00:00']\n",
            "[44, 0.0057984632439911366, 0.0012955468846485019, '00:00']\n",
            "[45, 0.006195369176566601, 0.00409618578851223, '00:00']\n",
            "[45, 0.006195369176566601, 0.00409618578851223, '00:00']\n",
            "[46, 0.004838225431740284, 0.0012814748333767056, '00:00']\n",
            "[46, 0.004838225431740284, 0.0012814748333767056, '00:00']\n",
            "[47, 0.00661526620388031, 0.0012466602493077517, '00:00']\n",
            "[47, 0.00661526620388031, 0.0012466602493077517, '00:00']\n",
            "[48, 0.00440010242164135, 0.0071001783944666386, '00:00']\n",
            "[48, 0.00440010242164135, 0.0071001783944666386, '00:00']\n",
            "[49, 0.004752476233989, 0.0026111819315701723, '00:00']\n",
            "[49, 0.004752476233989, 0.0026111819315701723, '00:00']\n",
            "[50, 0.0056997970677912235, 0.0024309316650032997, '00:00']\n",
            "[50, 0.0056997970677912235, 0.0024309316650032997, '00:00']\n",
            "[51, 0.0031872745603322983, 0.002761933719739318, '00:00']\n",
            "[51, 0.0031872745603322983, 0.002761933719739318, '00:00']\n",
            "[52, 0.002751054707914591, 0.0011410865699872375, '00:00']\n",
            "[52, 0.002751054707914591, 0.0011410865699872375, '00:00']\n",
            "[53, 0.0025134095922112465, 0.0009498224244453013, '00:00']\n",
            "[53, 0.0025134095922112465, 0.0009498224244453013, '00:00']\n",
            "[54, 0.002677119802683592, 0.0005526493187062442, '00:00']\n",
            "[54, 0.002677119802683592, 0.0005526493187062442, '00:00']\n",
            "[55, 0.0027326317504048347, 0.001374814542941749, '00:00']\n",
            "[55, 0.0027326317504048347, 0.001374814542941749, '00:00']\n",
            "[56, 0.0019024584908038378, 0.0015840877313166857, '00:00']\n",
            "[56, 0.0019024584908038378, 0.0015840877313166857, '00:00']\n",
            "[57, 0.0016951815923675895, 0.001231073634698987, '00:00']\n",
            "[57, 0.0016951815923675895, 0.001231073634698987, '00:00']\n",
            "[58, 0.0014313488500192761, 0.0006812958745285869, '00:00']\n",
            "[58, 0.0014313488500192761, 0.0006812958745285869, '00:00']\n",
            "[59, 0.0015736009227111936, 0.0024957493878901005, '00:00']\n",
            "[59, 0.0015736009227111936, 0.0024957493878901005, '00:00']\n",
            "[60, 0.0010910845594480634, 0.000782378192525357, '00:00']\n",
            "[60, 0.0010910845594480634, 0.000782378192525357, '00:00']\n",
            "[61, 0.0012538814917206764, 0.0006633967277593911, '00:00']\n",
            "[61, 0.0012538814917206764, 0.0006633967277593911, '00:00']\n",
            "[62, 0.0011663726763799787, 0.0008409226429648697, '00:00']\n",
            "[62, 0.0011663726763799787, 0.0008409226429648697, '00:00']\n",
            "[63, 0.0008643904002383351, 0.002110864734277129, '00:00']\n",
            "[63, 0.0008643904002383351, 0.002110864734277129, '00:00']\n",
            "[64, 0.0007021866622380912, 0.0002242048067273572, '00:00']\n",
            "[64, 0.0007021866622380912, 0.0002242048067273572, '00:00']\n",
            "[65, 0.0008000319940038025, 0.0009674717439338565, '00:00']\n",
            "[65, 0.0008000319940038025, 0.0009674717439338565, '00:00']\n",
            "[66, 0.0006461330340243876, 0.0003058456059079617, '00:00']\n",
            "[66, 0.0006461330340243876, 0.0003058456059079617, '00:00']\n",
            "[67, 0.000516411557327956, 0.0002660355530679226, '00:00']\n",
            "[67, 0.000516411557327956, 0.0002660355530679226, '00:00']\n",
            "[68, 0.0005152546800673008, 0.00026400902424938977, '00:00']\n",
            "[68, 0.0005152546800673008, 0.00026400902424938977, '00:00']\n",
            "[69, 0.0003265048435423523, 0.0009084830526262522, '00:00']\n",
            "[69, 0.0003265048435423523, 0.0009084830526262522, '00:00']\n",
            "[70, 0.0002999881107825786, 0.00011716300650732592, '00:00']\n",
            "[70, 0.0002999881107825786, 0.00011716300650732592, '00:00']\n",
            "[71, 0.000375643401639536, 0.0003381907008588314, '00:00']\n",
            "[71, 0.000375643401639536, 0.0003381907008588314, '00:00']\n",
            "[72, 0.000232261314522475, 0.00018946712953038514, '00:00']\n",
            "[72, 0.000232261314522475, 0.00018946712953038514, '00:00']\n",
            "[73, 0.00022611503663938493, 0.00055983493803069, '00:00']\n",
            "[73, 0.00022611503663938493, 0.00055983493803069, '00:00']\n",
            "[74, 0.00015412755601573735, 0.00018508214270696044, '00:00']\n",
            "[74, 0.00015412755601573735, 0.00018508214270696044, '00:00']\n",
            "[75, 0.00013932604633737355, 0.0003902247117366642, '00:00']\n",
            "[75, 0.00013932604633737355, 0.0003902247117366642, '00:00']\n",
            "[76, 0.0001519705110695213, 9.526993380859494e-05, '00:00']\n",
            "[76, 0.0001519705110695213, 9.526993380859494e-05, '00:00']\n",
            "[77, 9.335710637969896e-05, 5.095381857245229e-05, '00:00']\n",
            "[77, 9.335710637969896e-05, 5.095381857245229e-05, '00:00']\n",
            "[78, 8.431745663983747e-05, 9.022938320413232e-05, '00:00']\n",
            "[78, 8.431745663983747e-05, 9.022938320413232e-05, '00:00']\n",
            "[79, 8.149431960191578e-05, 7.176100189099088e-05, '00:00']\n",
            "[79, 8.149431960191578e-05, 7.176100189099088e-05, '00:00']\n",
            "[80, 5.726270319428295e-05, 8.622802124591544e-05, '00:00']\n",
            "[80, 5.726270319428295e-05, 8.622802124591544e-05, '00:00']\n",
            "[81, 6.048731302144006e-05, 0.00010985654080286622, '00:00']\n",
            "[81, 6.048731302144006e-05, 0.00010985654080286622, '00:00']\n",
            "[82, 4.831800106330775e-05, 3.615429886849597e-05, '00:00']\n",
            "[82, 4.831800106330775e-05, 3.615429886849597e-05, '00:00']\n",
            "[83, 4.042868749820627e-05, 2.90783846139675e-05, '00:00']\n",
            "[83, 4.042868749820627e-05, 2.90783846139675e-05, '00:00']\n",
            "[84, 3.6168905353406444e-05, 2.9366288799792528e-05, '00:00']\n",
            "[84, 3.6168905353406444e-05, 2.9366288799792528e-05, '00:00']\n",
            "[85, 3.243244646000676e-05, 3.245670814067125e-05, '00:00']\n",
            "[85, 3.243244646000676e-05, 3.245670814067125e-05, '00:00']\n",
            "[86, 2.710816443141084e-05, 3.599363481043838e-05, '00:00']\n",
            "[86, 2.710816443141084e-05, 3.599363481043838e-05, '00:00']\n",
            "[87, 2.1972646209178492e-05, 2.048588612524327e-05, '00:00']\n",
            "[87, 2.1972646209178492e-05, 2.048588612524327e-05, '00:00']\n",
            "[88, 2.1569878299487755e-05, 2.0160447093076073e-05, '00:00']\n",
            "[88, 2.1569878299487755e-05, 2.0160447093076073e-05, '00:00']\n",
            "[89, 2.0586341634043492e-05, 2.012026379816234e-05, '00:00']\n",
            "[89, 2.0586341634043492e-05, 2.012026379816234e-05, '00:00']\n",
            "[90, 1.966009585885331e-05, 2.0924528143950738e-05, '00:00']\n",
            "[90, 1.966009585885331e-05, 2.0924528143950738e-05, '00:00']\n",
            "[91, 1.8166347217629664e-05, 1.8374279534327798e-05, '00:00']\n",
            "[91, 1.8166347217629664e-05, 1.8374279534327798e-05, '00:00']\n",
            "[92, 1.720778163871728e-05, 1.7222671885974705e-05, '00:00']\n",
            "[92, 1.720778163871728e-05, 1.7222671885974705e-05, '00:00']\n",
            "[93, 1.574817724758759e-05, 1.642341521801427e-05, '00:00']\n",
            "[93, 1.574817724758759e-05, 1.642341521801427e-05, '00:00']\n",
            "[94, 1.5155880646489095e-05, 1.5782339687575586e-05, '00:00']\n",
            "[94, 1.5155880646489095e-05, 1.5782339687575586e-05, '00:00']\n",
            "[95, 1.4691200703964569e-05, 1.5748519217595458e-05, '00:00']\n",
            "[95, 1.4691200703964569e-05, 1.5748519217595458e-05, '00:00']\n",
            "[96, 1.4400459804164711e-05, 1.5274903489626013e-05, '00:00']\n",
            "[96, 1.4400459804164711e-05, 1.5274903489626013e-05, '00:00']\n",
            "[97, 1.3933411537436768e-05, 1.4991622265370097e-05, '00:00']\n",
            "[97, 1.3933411537436768e-05, 1.4991622265370097e-05, '00:00']\n",
            "[98, 1.3505382412404288e-05, 1.4900408132234588e-05, '00:00']\n",
            "[98, 1.3505382412404288e-05, 1.4900408132234588e-05, '00:00']\n",
            "[99, 1.3342752026801463e-05, 1.4844611541775521e-05, '00:00']\n",
            "[99, 1.3342752026801463e-05, 1.4844611541775521e-05, '00:00']\n",
            "Training took 89.50667136100003 seconds\n"
          ],
          "name": "stdout"
        }
      ]
    },
    {
      "cell_type": "markdown",
      "metadata": {
        "id": "3NHghjTObKJ6"
      },
      "source": [
        "Then we plot the loss as a function of batches and epochs to check if we reach a plateau.\r\n",
        "\r\n"
      ]
    },
    {
      "cell_type": "code",
      "metadata": {
        "colab": {
          "base_uri": "https://localhost:8080/",
          "height": 265
        },
        "id": "pZRnFe3EX-SG",
        "outputId": "804f81b7-91e1-4ff5-c9ba-af5f76aee3db"
      },
      "source": [
        "recorder.plot_loss()"
      ],
      "execution_count": null,
      "outputs": [
        {
          "output_type": "display_data",
          "data": {
            "image/png": "[encoded data removed]",
            "text/plain": [
              "<Figure size 432x288 with 1 Axes>"
            ]
          },
          "metadata": {
            "tags": [],
            "needs_background": "light"
          }
        }
      ]
    },
    {
      "cell_type": "markdown",
      "metadata": {
        "id": "7f8Bnp9fbQIJ"
      },
      "source": [
        "Then we evaluate the MSE on this network - it should be of the order of 0.001 or less if all has gone well...if it has not trained as well (note the pesky 0-mass peak above...) then it's going to be a bit higher.\r\n",
        "\r\n"
      ]
    },
    {
      "cell_type": "code",
      "metadata": {
        "colab": {
          "base_uri": "https://localhost:8080/"
        },
        "id": "mnoDiZdJbLuk",
        "outputId": "ccbae209-6ef9-491b-bc40-c2a24ab99d59"
      },
      "source": [
        "learn.validate()"
      ],
      "execution_count": null,
      "outputs": [
        {
          "output_type": "execute_result",
          "data": {
            "text/plain": [
              "(#1) [1.4844611541775521e-05]"
            ]
          },
          "metadata": {
            "tags": []
          },
          "execution_count": 16
        }
      ]
    },
    {
      "cell_type": "markdown",
      "metadata": {
        "id": "sDObU0GfbYVT"
      },
      "source": [
        "### Plotting the outputs of the network¶\r\n",
        "Lazy-save of our output files (they'll also be on screen)\r\n"
      ]
    },
    {
      "cell_type": "code",
      "metadata": {
        "id": "Yx3zbGKdbR9p"
      },
      "source": [
        "import os\r\n",
        "save_dir = \"plotOutput\"\r\n",
        "if not os.path.exists(save_dir):\r\n",
        "    os.makedirs(save_dir)\r\n",
        "\r\n",
        "# A function in case we want to un-normalize and get back to physical quantities...\r\n",
        "\r\n",
        "def custom_unnormalize(df):\r\n",
        "    df['eta'] = df['eta'] * 5\r\n",
        "    df['phi'] = df['phi'] * 3\r\n",
        "    df['e'] = 10**df['e']\r\n",
        "    #df['m'] = 10**df['m']\r\n",
        "    df['pt'] = 10**(df['pt'])\r\n",
        "    return df\r\n",
        "\r\n",
        "# Make the histograms from the dataset...  "
      ],
      "execution_count": null,
      "outputs": []
    },
    {
      "cell_type": "code",
      "metadata": {
        "colab": {
          "base_uri": "https://localhost:8080/",
          "height": 1000
        },
        "id": "KYp8nIIrbmff",
        "outputId": "6202db31-039d-4f40-cba9-14c56a026b42"
      },
      "source": [
        "import numpy as np\r\n",
        "\r\n",
        "plt.close('all')\r\n",
        "\r\n",
        "#unit_list = ['[log(GeV)]', '[rad/3]', '[rad/3]', '[log(GeV)]']\r\n",
        "variable_list = [ r'$e$', r'$p_T$', r'$\\eta$', r'$\\phi$']\r\n",
        "\r\n",
        "line_style = ['--', '-']\r\n",
        "colors = ['orange', 'c']\r\n",
        "markers = ['*', 's']\r\n",
        "\r\n",
        "model.to('cpu')\r\n",
        "\r\n",
        "save = False # Option to save figure\r\n",
        "\r\n",
        "# Histograms\r\n",
        "idxs = (0, 100000)  # Choose events to compare\r\n",
        "data = torch.tensor(test[idxs[0]:idxs[1]].values, dtype=torch.float)\r\n",
        "#data = torch.tensor(test[idxs[0]:idxs[1]].values, dtype=torch.float).double()\r\n",
        "pred = model(data)\r\n",
        "pred = pred.detach().numpy()\r\n",
        "data = data.detach().numpy()\r\n",
        "\r\n",
        "data_df = pd.DataFrame(data, columns=test.columns)\r\n",
        "pred_df = pd.DataFrame(pred, columns=test.columns)\r\n",
        "\r\n",
        "unnormalized_data_df = custom_unnormalize(data_df)\r\n",
        "unnormalized_pred_df = custom_unnormalize(pred_df)    \r\n",
        "\r\n",
        "alph = 0.8\r\n",
        "n_bins = 200\r\n",
        "for kk in np.arange(4):\r\n",
        "    plt.figure()\r\n",
        "    n_hist_data, bin_edges, _ = plt.hist(data[:, kk], color=colors[1], label='Input', alpha=1, bins=n_bins)\r\n",
        "    n_hist_pred, _, _ = plt.hist(pred[:, kk], color=colors[0], label='Output', alpha=alph, bins=bin_edges)\r\n",
        "    plt.suptitle(test.columns[kk])\r\n",
        "    plt.xlabel(test.columns[kk])\r\n",
        "    plt.ylabel('Number of jets')\r\n",
        "    # ms.sciy()\r\n",
        "    plt.yscale('log')\r\n",
        "    if save:\r\n",
        "        plt.savefig(os.path.join(save_dir,test.columns[kk]+'.png'))\r\n",
        "    plt.legend()"
      ],
      "execution_count": null,
      "outputs": [
        {
          "output_type": "display_data",
          "data": {
            "image/png": "[encoded data removed]",
            "text/plain": [
              "<Figure size 432x288 with 1 Axes>"
            ]
          },
          "metadata": {
            "tags": [],
            "needs_background": "light"
          }
        },
        {
          "output_type": "display_data",
          "data": {
            "image/png": "[encoded data removed]",
            "text/plain": [
              "<Figure size 432x288 with 1 Axes>"
            ]
          },
          "metadata": {
            "tags": [],
            "needs_background": "light"
          }
        },
        {
          "output_type": "display_data",
          "data": {
            "image/png": "[encoded data removed]",
            "text/plain": [
              "<Figure size 432x288 with 1 Axes>"
            ]
          },
          "metadata": {
            "tags": [],
            "needs_background": "light"
          }
        },
        {
          "output_type": "display_data",
          "data": {
            "image/png": "[encoded data removed]",
            "text/plain": [
              "<Figure size 432x288 with 1 Axes>"
            ]
          },
          "metadata": {
            "tags": [],
            "needs_background": "light"
          }
        }
      ]
    },
    {
      "cell_type": "code",
      "metadata": {
        "id": "ggyyLe2ydBeo"
      },
      "source": [
        ""
      ],
      "execution_count": null,
      "outputs": []
    }
  ]
}